{
 "cells": [
  {
   "cell_type": "code",
   "execution_count": 4,
   "metadata": {},
   "outputs": [],
   "source": [
    "from selenium import webdriver\n",
    "from bs4 import BeautifulSoup\n",
    "import re\n",
    "\n",
    "from gensim.models import Word2Vec\n",
    "\n",
    "import nltk\n",
    "from nltk.corpus import stopwords\n",
    "\n",
    "stop_words = stopwords.words('english')"
   ]
  },
  {
   "cell_type": "code",
   "execution_count": 7,
   "metadata": {},
   "outputs": [
    {
     "name": "stderr",
     "output_type": "stream",
     "text": [
      "[WDM] - Current google-chrome version is 83.0.4103\n",
      "[WDM] - Get LATEST driver version for 83.0.4103\n"
     ]
    },
    {
     "name": "stdout",
     "output_type": "stream",
     "text": [
      " \n"
     ]
    },
    {
     "name": "stderr",
     "output_type": "stream",
     "text": [
      "[WDM] - Driver [C:\\Users\\SHRENI\\.wdm\\drivers\\chromedriver\\win32\\83.0.4103.39\\chromedriver.exe] found in cache\n"
     ]
    }
   ],
   "source": [
    "from webdriver_manager.chrome import ChromeDriverManager\n",
    "driver = webdriver.Chrome(ChromeDriverManager().install())\n",
    "driver.get(\"https://www.analyticsvidhya.com/blog/2019/02/stanfordnlp-nlp-library-python/\")"
   ]
  },
  {
   "cell_type": "code",
   "execution_count": 8,
   "metadata": {},
   "outputs": [
    {
     "name": "stdout",
     "output_type": "stream",
     "text": [
      "\n",
      "\n",
      "[unlock2020] starter program in machine learning | flat 75% off - offer ending soon\n",
      "\n",
      "a common challenge i came across while learning natural language processing (nlp) – can we build models for non-english languages? the answer has been no for quite a long time. each language has its own grammatical patterns and linguistic nuances. and there just aren’t many datasets available in other languages.that’s where stanford’s latest nlp library steps in – stanfordnlp.i could barely contain my excitement when i read the news last week. the authors claimed stanfordnlp could support more than 53 human languages! yes, i had to double-check that number.i decided to check it out myself. there’s no official tutorial for the library yet so i got the chance to experiment and play around with it. and i found that it opens up a world of endless possibilities. stanfordnlp contains pre-trained models for rare asian languages like hindi, chinese and japanese in their original scripts.the ability to work with multiple languages is a wonder all nlp enthusiasts crave for. in this article, we will walk through what stanfordnlp is, why it’s so important, and then fire up python to see it live in action. we’ll also take up a case study in hindi to showcase how stanfordnlp works – you don’t want to miss that!  here is stanfordnlp’s description by the authors themselves:stanfordnlp is the combination of the software package used by the stanford team in the conll 2018 shared task on universal dependency parsing, and the group’s official python interface to the stanford corenlp software.that’s too much information in one go! let’s break it down:stanfordnlp is a collection of pre-trained state-of-the-art models. these models were used by the researchers in the conll 2017 and 2018 competitions. all the models are built on pytorch and can be trained and evaluated on your own annotated data. awesome!additionally, stanfordnlp also contains an official wrapper to the popular behemoth nlp library – corenlp. this had been somewhat limited to the java ecosystem until now. you should check out this tutorial to learn more about corenlp and how it works in python.below are a few more reasons why you should check out this library:what more could an nlp enthusiast ask for? now that we have a handle on what this library does, let’s take it for a spin in python! there are some peculiar things about the library that had me puzzled initially. for instance, you need python 3.6.8/3.7.2 or later to use stanfordnlp. to be safe, i set up a separate environment in anaconda for python 3.7.1. here’s how you can do it:1. open conda prompt and type this:2. now activate the environment:3. install the stanfordnlp library:4. we need to download a language’s specific model to work with it. launch a python shell and import stanfordnlp:then download the language model for english (“en”):this can take a while depending on your internet connection. these language models are pretty huge (the english one is 1.96gb). which should give an output like torch==1.0.0that’s all! let’s dive into some basic nlp processing right away. stanfordnlp comes with built-in processors to perform five basic nlp tasks:let’s start by creating a text pipeline:the processors = “” argument is used to specify the task. all five processors are taken by default if no argument is passed. here is a quick overview of the processors and what they can do:let’s see each of them in action. this process happens implicitly once the token processor is run. it is actually pretty quick. you can have a look at tokens by using print_tokens():the token object contains the index of the token in the sentence and a list of word objects (in case of a multi-word token). each word object contains useful information, like the index of the word, the lemma of the text, the pos (parts of speech) tag and the feat (morphological features) tag. this involves using the “lemma” property of the words generated by the lemma processor. here’s the code to get the lemma of all the words:this returns a pandas data frame for each word and its respective lemma: the pos tagger is quite fast and works really well across languages. just like lemmas, pos tags are also easy to extract:notice the big dictionary in the above code? it is just a mapping between pos tags and their meaning. this helps in getting a better understanding of our document’s syntactic structure.the output would be a data frame with three columns – word, pos and exp (explanation). the explanation column gives us the most information about the text (and is hence quite useful).adding the explanation column makes it much easier to evaluate how accurate our processor is. i like the fact that the tagger is on point for the majority of the words. it even picks up the tense of a word and whether it is in base or plural form. dependency extraction is another out-of-the-box feature of stanfordnlp. you can simply call print_dependencies() on a sentence to get the dependency relations for all of its words:the library computes all of the above during a single run of the pipeline. this will hardly take you a few minutes on a gpu enabled machine.we have now figured out a way to perform basic text processing with stanfordnlp. it’s time to take advantage of the fact that we can do the same for 51 other languages! stanfordnlp really stands out in its performance and multilingual text parsing support. let’s dive deeper into the latter aspect. first, we have to download the hindi language model (comparatively smaller!):now, take a piece of text in hindi as our text document:this should be enough to generate all the tags. let’s check the tags for hindi:the pos tagger works surprisingly well on the hindi text as well. look at “अपना” for example. the pos tagger tags it as a pronoun – i, he, she – which is accurate. corenlp is a time tested, industry grade nlp tool-kit that is known for its performance and accuracy. stanfordnlp has been declared as an official python interface to corenlp. that is a huge win for this library.there have been efforts before to create python wrapper packages for corenlp but nothing beats an official implementation from the authors themselves. this means that the library will see regular updates and improvements.stanfordnlp takes three lines of code to start utilizing corenlp’s sophisticated api. literally, just three lines of code to set it up!1. download the corenlp package. open your linux terminal and type the following command:2. unzip the downloaded package:3. start the corenlp server:note: corenlp requires java8 to run. please make sure you have jdk and jre 1.8.x installed.pnow, make sure that stanfordnlp knows where corenlp is present. for that, you have to export $corenlp_home as the location of your folder. in my case, this folder was in the home itself so my path would be likeafter the above steps have been taken, you can start up the server and make requests in python code. below is a comprehensive example of starting a server, making requests, and accessing data from the returned object.the above examples barely scratch the surface of what corenlp can do and yet it is very interesting, we were able to accomplish from basic nlp tasks like parts of speech tagging to things like named entity recognition, co-reference chain extraction and finding who wrote what in a sentence in just few lines of python code.what i like the most here is the ease of use and increased accessibility this brings when it comes to using corenlp in python. exploring a newly launched library was certainly a challenge. there’s barely any documentation on stanfordnlp! yet, it was quite an enjoyable learning experience.a few things that excite me regarding the future of stanfordnlp:there are, however, a few chinks to iron out. below are my thoughts on where stanfordnlp could improve:make sure you check out stanfordnlp’s official documentation. there is still a feature i haven’t tried out yet. stanfordnlp allows you to train models on your own annotated data using embeddings from word2vec/fasttext. i’d like to explore it in the future and see how effective that functionality is. i will update the article whenever the library matures a bit.clearly, stanfordnlp is very much in the beta stage. it will only get better from here so this is a really good time to start using it – get a head start over everyone else.for now, the fact that such amazing toolkits (corenlp) are coming to the python ecosystem and research giants like stanford are making an effort to open source their software, i am optimistic about the future.very nice article. specially the hindi part explanation. it will open ways to analyse hindi texts. thanks for sharing!hey rakesh,thanks for your comment. indeed, not just hindi but many local languages from all over the world will be accessible to the nlp community now because of stanfordnlp.sanad\n",
      "\n",
      "\n",
      "© copyright 2013-2020 analytics vidhya\n"
     ]
    }
   ],
   "source": [
    "content = driver.page_source\n",
    "soup = BeautifulSoup(content)\n",
    "all_paras = soup.find_all('p')\n",
    "text = ''\n",
    "for p in all_paras:\n",
    "    text += p.get_text().lower()\n",
    "\n",
    "print(text)"
   ]
  },
  {
   "cell_type": "code",
   "execution_count": 9,
   "metadata": {},
   "outputs": [
    {
     "name": "stdout",
     "output_type": "stream",
     "text": [
      "[['unlock', 'starter', 'program', 'machine', 'learning', 'flat', 'offer', 'ending', 'soon', 'common', 'challenge', 'came', 'across', 'learning', 'natural', 'language', 'processing', 'nlp', 'build', 'models', 'non', 'english', 'languages'], ['answer', 'quite', 'long', 'time'], ['language', 'grammatical', 'patterns', 'linguistic', 'nuances'], ['many', 'datasets', 'available', 'languages', 'stanford', 'latest', 'nlp', 'library', 'steps', 'stanfordnlp', 'could', 'barely', 'contain', 'excitement', 'read', 'news', 'last', 'week'], ['authors', 'claimed', 'stanfordnlp', 'could', 'support', 'human', 'languages'], ['yes', 'double', 'check', 'number', 'decided', 'check'], ['official', 'tutorial', 'library', 'yet', 'got', 'chance', 'experiment', 'play', 'around'], ['found', 'opens', 'world', 'endless', 'possibilities'], ['stanfordnlp', 'contains', 'pre', 'trained', 'models', 'rare', 'asian', 'languages', 'like', 'hindi', 'chinese', 'japanese', 'original', 'scripts', 'ability', 'work', 'multiple', 'languages', 'wonder', 'nlp', 'enthusiasts', 'crave'], ['article', 'walk', 'stanfordnlp', 'important', 'fire', 'python', 'see', 'live', 'action'], ['also', 'take', 'case', 'study', 'hindi', 'showcase', 'stanfordnlp', 'works', 'want', 'miss'], ['stanfordnlp', 'description', 'authors', 'stanfordnlp', 'combination', 'software', 'package', 'used', 'stanford', 'team', 'conll', 'shared', 'task', 'universal', 'dependency', 'parsing', 'group', 'official', 'python', 'interface', 'stanford', 'corenlp', 'software', 'much', 'information', 'one', 'go'], ['let', 'break', 'stanfordnlp', 'collection', 'pre', 'trained', 'state', 'art', 'models'], ['models', 'used', 'researchers', 'conll', 'competitions'], ['models', 'built', 'pytorch', 'trained', 'evaluated', 'annotated', 'data'], ['awesome', 'additionally', 'stanfordnlp', 'also', 'contains', 'official', 'wrapper', 'popular', 'behemoth', 'nlp', 'library', 'corenlp'], ['somewhat', 'limited', 'java', 'ecosystem'], ['check', 'tutorial', 'learn', 'corenlp', 'works', 'python', 'reasons', 'check', 'library', 'could', 'nlp', 'enthusiast', 'ask'], ['handle', 'library', 'let', 'take', 'spin', 'python'], ['peculiar', 'things', 'library', 'puzzled', 'initially'], ['instance', 'need', 'python', 'later', 'use', 'stanfordnlp'], ['safe', 'set', 'separate', 'environment', 'anaconda', 'python', 'open', 'conda', 'prompt', 'type', 'activate', 'environment', 'install', 'stanfordnlp', 'library', 'need', 'download', 'language', 'specific', 'model', 'work'], ['launch', 'python', 'shell', 'import', 'stanfordnlp', 'download', 'language', 'model', 'english', 'en', 'take', 'depending', 'internet', 'connection'], ['language', 'models', 'pretty', 'huge', 'english', 'one', 'gb'], ['give', 'output', 'like', 'torch'], ['let', 'dive', 'basic', 'nlp', 'processing', 'right', 'away'], ['stanfordnlp', 'comes', 'built', 'processors', 'perform', 'five', 'basic', 'nlp', 'tasks', 'let', 'start', 'creating', 'text', 'pipeline', 'processors', 'argument', 'used', 'specify', 'task'], ['five', 'processors', 'taken', 'default', 'argument', 'passed'], ['quick', 'overview', 'processors', 'let', 'see', 'action'], ['process', 'happens', 'implicitly', 'token', 'processor', 'run'], ['actually', 'pretty', 'quick'], ['look', 'tokens', 'using', 'print', 'tokens', 'token', 'object', 'contains', 'index', 'token', 'sentence', 'list', 'word', 'objects', 'case', 'multi', 'word', 'token'], ['word', 'object', 'contains', 'useful', 'information', 'like', 'index', 'word', 'lemma', 'text', 'pos', 'parts', 'speech', 'tag', 'feat', 'morphological', 'features', 'tag'], ['involves', 'using', 'lemma', 'property', 'words', 'generated', 'lemma', 'processor'], ['code', 'get', 'lemma', 'words', 'returns', 'pandas', 'data', 'frame', 'word', 'respective', 'lemma', 'pos', 'tagger', 'quite', 'fast', 'works', 'really', 'well', 'across', 'languages'], ['like', 'lemmas', 'pos', 'tags', 'also', 'easy', 'extract', 'notice', 'big', 'dictionary', 'code'], ['mapping', 'pos', 'tags', 'meaning'], ['helps', 'getting', 'better', 'understanding', 'document', 'syntactic', 'structure', 'output', 'would', 'data', 'frame', 'three', 'columns', 'word', 'pos', 'exp', 'explanation'], ['explanation', 'column', 'gives', 'us', 'information', 'text', 'hence', 'quite', 'useful', 'adding', 'explanation', 'column', 'makes', 'much', 'easier', 'evaluate', 'accurate', 'processor'], ['like', 'fact', 'tagger', 'point', 'majority', 'words'], ['even', 'picks', 'tense', 'word', 'whether', 'base', 'plural', 'form'], ['dependency', 'extraction', 'another', 'box', 'feature', 'stanfordnlp'], ['simply', 'call', 'print', 'dependencies', 'sentence', 'get', 'dependency', 'relations', 'words', 'library', 'computes', 'single', 'run', 'pipeline'], ['hardly', 'take', 'minutes', 'gpu', 'enabled', 'machine', 'figured', 'way', 'perform', 'basic', 'text', 'processing', 'stanfordnlp'], ['time', 'take', 'advantage', 'fact', 'languages'], ['stanfordnlp', 'really', 'stands', 'performance', 'multilingual', 'text', 'parsing', 'support'], ['let', 'dive', 'deeper', 'latter', 'aspect'], ['first', 'download', 'hindi', 'language', 'model', 'comparatively', 'smaller'], ['take', 'piece', 'text', 'hindi', 'text', 'document', 'enough', 'generate', 'tags'], ['let', 'check', 'tags', 'hindi', 'pos', 'tagger', 'works', 'surprisingly', 'well', 'hindi', 'text', 'well'], ['look', 'example'], ['pos', 'tagger', 'tags', 'pronoun', 'accurate'], ['corenlp', 'time', 'tested', 'industry', 'grade', 'nlp', 'tool', 'kit', 'known', 'performance', 'accuracy'], ['stanfordnlp', 'declared', 'official', 'python', 'interface', 'corenlp'], ['huge', 'win', 'library', 'efforts', 'create', 'python', 'wrapper', 'packages', 'corenlp', 'nothing', 'beats', 'official', 'implementation', 'authors'], ['means', 'library', 'see', 'regular', 'updates', 'improvements', 'stanfordnlp', 'takes', 'three', 'lines', 'code', 'start', 'utilizing', 'corenlp', 'sophisticated', 'api'], ['literally', 'three', 'lines', 'code', 'set'], ['download', 'corenlp', 'package'], ['open', 'linux', 'terminal', 'type', 'following', 'command', 'unzip', 'downloaded', 'package', 'start', 'corenlp', 'server', 'note', 'corenlp', 'requires', 'java', 'run'], ['please', 'make', 'sure', 'jdk', 'jre', 'x', 'installed', 'pnow', 'make', 'sure', 'stanfordnlp', 'knows', 'corenlp', 'present'], ['export', 'corenlp', 'home', 'location', 'folder'], ['case', 'folder', 'home', 'path', 'would', 'likeafter', 'steps', 'taken', 'start', 'server', 'make', 'requests', 'python', 'code'], ['comprehensive', 'example', 'starting', 'server', 'making', 'requests', 'accessing', 'data', 'returned', 'object', 'examples', 'barely', 'scratch', 'surface', 'corenlp', 'yet', 'interesting', 'able', 'accomplish', 'basic', 'nlp', 'tasks', 'like', 'parts', 'speech', 'tagging', 'things', 'like', 'named', 'entity', 'recognition', 'co', 'reference', 'chain', 'extraction', 'finding', 'wrote', 'sentence', 'lines', 'python', 'code', 'like', 'ease', 'use', 'increased', 'accessibility', 'brings', 'comes', 'using', 'corenlp', 'python'], ['exploring', 'newly', 'launched', 'library', 'certainly', 'challenge'], ['barely', 'documentation', 'stanfordnlp'], ['yet', 'quite', 'enjoyable', 'learning', 'experience', 'things', 'excite', 'regarding', 'future', 'stanfordnlp', 'however', 'chinks', 'iron'], ['thoughts', 'stanfordnlp', 'could', 'improve', 'make', 'sure', 'check', 'stanfordnlp', 'official', 'documentation'], ['still', 'feature', 'tried', 'yet'], ['stanfordnlp', 'allows', 'train', 'models', 'annotated', 'data', 'using', 'embeddings', 'word', 'vec', 'fasttext'], ['like', 'explore', 'future', 'see', 'effective', 'functionality'], ['update', 'article', 'whenever', 'library', 'matures', 'bit', 'clearly', 'stanfordnlp', 'much', 'beta', 'stage'], ['get', 'better', 'really', 'good', 'time', 'start', 'using', 'get', 'head', 'start', 'everyone', 'else', 'fact', 'amazing', 'toolkits', 'corenlp', 'coming', 'python', 'ecosystem', 'research', 'giants', 'like', 'stanford', 'making', 'effort', 'open', 'source', 'software', 'optimistic', 'future', 'nice', 'article'], ['specially', 'hindi', 'part', 'explanation'], ['open', 'ways', 'analyse', 'hindi', 'texts'], ['thanks', 'sharing', 'hey', 'rakesh', 'thanks', 'comment'], ['indeed', 'hindi', 'many', 'local', 'languages', 'world', 'accessible', 'nlp', 'community', 'stanfordnlp', 'sanad', 'copyright', 'analytics', 'vidhya']]\n"
     ]
    }
   ],
   "source": [
    "tokenized_sentence = nltk.sent_tokenize(text)\n",
    "for i in range(len(tokenized_sentence)):\n",
    "    tokenized_sentence[i] = re.sub('[^a-zA-Z]', ' ', tokenized_sentence[i])\n",
    "    tokenized_sentence[i] = re.sub(r'\\s+', ' ', tokenized_sentence[i])\n",
    "\n",
    "all_words = [nltk.word_tokenize(sent) for sent in tokenized_sentence]\n",
    "\n",
    "for i in range(len(all_words)):\n",
    "    all_words[i] = [w for w in all_words[i] if w not in stop_words]\n",
    "\n",
    "print(all_words)"
   ]
  },
  {
   "cell_type": "code",
   "execution_count": 10,
   "metadata": {
    "scrolled": true
   },
   "outputs": [],
   "source": [
    "word2vec = Word2Vec(all_words, min_count=2)\n",
    "vocabulary = word2vec.wv.vocab"
   ]
  },
  {
   "cell_type": "code",
   "execution_count": 12,
   "metadata": {},
   "outputs": [
    {
     "name": "stdout",
     "output_type": "stream",
     "text": [
      "[-0.0048046   0.00436815 -0.00253017  0.00190237 -0.00132771  0.00466583\n",
      " -0.00236481 -0.00233143  0.00306923 -0.00042249  0.00439168  0.00297279\n",
      "  0.0004159  -0.00447837  0.00217872  0.00165979 -0.00315331  0.00058869\n",
      " -0.00085681 -0.00129608 -0.00080031 -0.00053434  0.00247294  0.0014693\n",
      "  0.00161149  0.00115531  0.00251804 -0.00488132 -0.0028978   0.00057348\n",
      " -0.0020482  -0.00400481  0.00420392  0.00480765 -0.00299249  0.00331623\n",
      "  0.00419981  0.00089043 -0.00174223  0.00324853 -0.0016964   0.00063895\n",
      " -0.00220723  0.00333351 -0.00128035 -0.00124676  0.00227719 -0.00179205\n",
      "  0.00361996 -0.00489997  0.0032589  -0.00470685 -0.00445003 -0.00460495\n",
      " -0.00459498 -0.0048187   0.00162929  0.00222582 -0.00439638  0.00439788\n",
      " -0.00297336 -0.00483865 -0.00480662 -0.00288017  0.00456622 -0.0042626\n",
      "  0.0047714  -0.00016386 -0.00236174  0.00457395  0.00256375 -0.00407743\n",
      "  0.00439244  0.00441195 -0.00141486 -0.00018832  0.00409514  0.00300513\n",
      " -0.00273152 -0.00244843  0.00381039 -0.00343558  0.002283   -0.0009205\n",
      " -0.00307343  0.0001058   0.00493629  0.00417794 -0.00080759  0.00308442\n",
      "  0.00292422 -0.00140705  0.00100549  0.00212583 -0.00150292  0.00427937\n",
      "  0.00365941  0.00161182  0.00050414  0.00233614]\n"
     ]
    }
   ],
   "source": [
    "v1 = word2vec.wv['machine']\n",
    "print(v1)"
   ]
  },
  {
   "cell_type": "code",
   "execution_count": 14,
   "metadata": {},
   "outputs": [
    {
     "name": "stdout",
     "output_type": "stream",
     "text": [
      "('tagger', 0.26184335350990295)\n",
      "('learning', 0.19507001340389252)\n",
      "('yet', 0.19421425461769104)\n",
      "('python', 0.18439951539039612)\n",
      "('pre', 0.18299049139022827)\n",
      "('let', 0.17456479370594025)\n",
      "('ecosystem', 0.17032688856124878)\n",
      "('download', 0.170025035738945)\n",
      "('requests', 0.16634991765022278)\n",
      "('accurate', 0.16497892141342163)\n"
     ]
    }
   ],
   "source": [
    "sim_words = word2vec.wv.most_similar('perform')\n",
    "for sim in sim_words:\n",
    "    print(sim)"
   ]
  },
  {
   "cell_type": "code",
   "execution_count": null,
   "metadata": {},
   "outputs": [],
   "source": []
  }
 ],
 "metadata": {
  "kernelspec": {
   "display_name": "Python 3",
   "language": "python",
   "name": "python3"
  },
  "language_info": {
   "codemirror_mode": {
    "name": "ipython",
    "version": 3
   },
   "file_extension": ".py",
   "mimetype": "text/x-python",
   "name": "python",
   "nbconvert_exporter": "python",
   "pygments_lexer": "ipython3",
   "version": "3.7.3"
  }
 },
 "nbformat": 4,
 "nbformat_minor": 4
}
