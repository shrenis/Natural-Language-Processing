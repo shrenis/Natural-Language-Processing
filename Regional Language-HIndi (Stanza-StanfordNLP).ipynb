{
 "cells": [
  {
   "cell_type": "markdown",
   "metadata": {},
   "source": [
    "# Regional Language Processing - Stanza(StanfordNLP)\n"
   ]
  },
  {
   "cell_type": "code",
   "execution_count": 1,
   "metadata": {},
   "outputs": [],
   "source": [
    "# stanza.download('hi')\n",
    "import stanza"
   ]
  },
  {
   "cell_type": "markdown",
   "metadata": {},
   "source": [
    "# File Reading  "
   ]
  },
  {
   "cell_type": "code",
   "execution_count": 2,
   "metadata": {},
   "outputs": [
    {
     "name": "stdout",
     "output_type": "stream",
     "text": [
      " योग शब्द की उत्पत्त‍ि : योग शब्द की उत्पत्त‍ि संस्कृति के युज से हुई है, जिसका मतलब होता है आत्मा का सार्वभौमिक चेतना से मिलन। \n",
      "योग लगभग दस हजार साल से भी अधिक समय से अपनाया जा रहा है। वैदिक संहिताओं के अनुसार तपस्वियों के बारे में प्राचीन काल से ही वेदों में इसका उल्लेख मिलता है। \n",
      "सिंधु घाटी सभ्यता में भी योग और समाधि को प्रदर्श‍ित करती मूर्तियां प्राप्त हुईं।\n",
      "\n",
      "हिन्दू धर्म में साधु, संन्यासियों व योगियों द्वारा योग सभ्यता को शुरू से ही अपनाया गया था, परंतु आम लोगों में इस विधा का विस्तार हुए अभी ज्यादा समय नहीं बीता है। \n",
      "बावजुद इसके, योग की महिमा और महत्व को जानकर इसे स्वस्थ्य जीवनशैली हेतु बड़े पैमाने पर अपनाया जा रहा है, जिसका प्रमुख कारण है व्यस्त, तनावपूर्ण और अस्वस्थ दिनचर्या में इसके सकारात्मक प्रभाव।\n"
     ]
    }
   ],
   "source": [
    "with open (\"Dataset\\\\hindi_para.txt\" , 'r',encoding='utf8', errors='strict') as f:\n",
    "    hin_text = f.read()\n",
    "\n",
    "print(hin_text)"
   ]
  },
  {
   "cell_type": "markdown",
   "metadata": {},
   "source": [
    "#  Stanza pipeline "
   ]
  },
  {
   "cell_type": "code",
   "execution_count": 3,
   "metadata": {},
   "outputs": [
    {
     "name": "stderr",
     "output_type": "stream",
     "text": [
      "2020-06-27 11:53:21 INFO: Loading these models for language: hi (Hindi):\n",
      "=======================\n",
      "| Processor | Package |\n",
      "-----------------------\n",
      "| tokenize  | hdtb    |\n",
      "| pos       | hdtb    |\n",
      "| lemma     | hdtb    |\n",
      "| depparse  | hdtb    |\n",
      "=======================\n",
      "\n",
      "2020-06-27 11:53:21 INFO: Use device: cpu\n",
      "2020-06-27 11:53:21 INFO: Loading: tokenize\n",
      "2020-06-27 11:53:21 INFO: Loading: pos\n",
      "2020-06-27 11:53:24 INFO: Loading: lemma\n",
      "2020-06-27 11:53:25 INFO: Loading: depparse\n",
      "2020-06-27 11:53:27 INFO: Done loading processors!\n"
     ]
    }
   ],
   "source": [
    "nlp = stanza.Pipeline(lang='hi', processors='tokenize, pos, lemma, depparse')"
   ]
  },
  {
   "cell_type": "code",
   "execution_count": 4,
   "metadata": {},
   "outputs": [],
   "source": [
    "document = nlp(hin_text)"
   ]
  },
  {
   "cell_type": "code",
   "execution_count": 5,
   "metadata": {},
   "outputs": [],
   "source": [
    "# Extracting the sentence token\n",
    "hindi_tokens = []\n",
    "for i, sentence in enumerate(document.sentences):\n",
    "    sentence_tokens = []\n",
    "    [sentence_tokens.append(token.text) for token in sentence.tokens]\n",
    "    hindi_tokens.append(sentence_tokens)"
   ]
  },
  {
   "cell_type": "code",
   "execution_count": 6,
   "metadata": {},
   "outputs": [
    {
     "name": "stdout",
     "output_type": "stream",
     "text": [
      "No of Tokens : 6\n",
      "\n",
      "['योग', 'शब्द', 'की', 'उत्पत्त\\u200dि', ':', 'योग', 'शब्द', 'की', 'उत्पत्त\\u200dि', 'संस्कृति', 'के', 'युज', 'से', 'हुई', 'है', ',', 'जिसका', 'मतलब', 'होता', 'है', 'आत्मा', 'का', 'सार्वभौमिक', 'चेतना', 'से', 'मिलन।']\n",
      "['योग', 'लगभग', 'दस', 'हजार', 'साल', 'से', 'भी', 'अधिक', 'समय', 'से', 'अपनाया', 'जा', 'रहा', 'है', '।']\n",
      "['वैदिक', 'संहिताओं', 'के', 'अनुसार', 'तपस्वियों', 'के', 'बारे', 'में', 'प्राचीन', 'काल', 'से', 'ही', 'वेदों', 'में', 'इसका', 'उल्लेख', 'मिलता', 'है', '।']\n",
      "['सिंधु', 'घाटी', 'सभ्यता', 'में', 'भी', 'योग', 'और', 'समाधि', 'को', 'प्रदर्श\\u200dित', 'करती', 'मूर्तियां', 'प्राप्त', 'हुईं', '।']\n",
      "['हिन्दू', 'धर्म', 'में', 'साधु', ',', 'संन्यासियों', 'व', 'योगियों', 'द्वारा', 'योग', 'सभ्यता', 'को', 'शुरू', 'से', 'ही', 'अपनाया', 'गया', 'था', ',', 'परंतु', 'आम', 'लोगों', 'में', 'इस', 'विधा', 'का', 'विस्तार', 'हुए', 'अभी', 'ज्यादा', 'समय', 'नहीं', 'बीता', 'है', '।']\n",
      "['बावजुद', 'इसके', ',', 'योग', 'की', 'महिमा', 'और', 'महत्व', 'को', 'जानकर', 'इसे', 'स्वस्थ्य', 'जीवनशैली', 'हेतु', 'बड़े', 'पैमाने', 'पर', 'अपनाया', 'जा', 'रहा', 'है', ',', 'जिसका', 'प्रमुख', 'कारण', 'है', 'व्यस्त', ',', 'तनावपूर्ण', 'और', 'अस्वस्थ', 'दिनचर्या', 'में', 'इसके', 'सकारात्मक', 'प्रभाव', '।']\n"
     ]
    }
   ],
   "source": [
    "print(f\"No of Tokens : {len(hindi_tokens)}\\n\")\n",
    "for sent_tok in hindi_tokens:\n",
    "    print(f'{sent_tok}')"
   ]
  },
  {
   "cell_type": "markdown",
   "metadata": {},
   "source": [
    "# Stop Words"
   ]
  },
  {
   "cell_type": "code",
   "execution_count": 9,
   "metadata": {},
   "outputs": [
    {
     "name": "stdout",
     "output_type": "stream",
     "text": [
      "[' योग शब्द की उत्पत्त\\u200dि : योग शब्द की उत्पत्त\\u200dि संस्कृति के युज से हुई है, जिसका मतलब होता है आत्मा का सार्वभौमिक चेतना से मिलन। ', 'योग लगभग दस हजार साल से भी अधिक समय से अपनाया जा रहा है। वैदिक संहिताओं के अनुसार तपस्वियों के बारे में प्राचीन काल से ही वेदों में इसका उल्लेख मिलता है। ', 'सिंधु घाटी सभ्यता में भी योग और समाधि को प्रदर्श\\u200dित करती मूर्तियां प्राप्त हुईं।', 'हिन्दू धर्म में साधु, संन्यासियों व योगियों द्वारा योग सभ्यता को शुरू से ही अपनाया गया था, परंतु आम लोगों में इस विधा का विस्तार हुए अभी ज्यादा समय नहीं बीता है। ', 'बावजुद इसके, योग की महिमा और महत्व को जानकर इसे स्वस्थ्य जीवनशैली हेतु बड़े पैमाने पर अपनाया जा रहा है, जिसका प्रमुख कारण है व्यस्त, तनावपूर्ण और अस्वस्थ दिनचर्या में इसके सकारात्मक प्रभाव।']\n"
     ]
    }
   ],
   "source": [
    "def process_stop_words(text):\n",
    "    hindi_stop_words = text.split(\"\\n\")\n",
    "    hindi_stop_words.remove('')\n",
    "    return hindi_stop_words\n",
    "    \n",
    "stop_words = process_stop_words(hin_text)\n",
    "print(stop_words)"
   ]
  },
  {
   "cell_type": "markdown",
   "metadata": {},
   "source": [
    "Application\n",
    "- In search engine to remove unimportant words."
   ]
  },
  {
   "cell_type": "markdown",
   "metadata": {},
   "source": [
    "# POS Tagging"
   ]
  },
  {
   "cell_type": "code",
   "execution_count": 10,
   "metadata": {},
   "outputs": [
    {
     "name": "stdout",
     "output_type": "stream",
     "text": [
      "[('योग', 'NOUN', 'NNC'), ('शब्द', 'NOUN', 'NN'), ('की', 'ADP', 'PSP'), ('उत्पत्त\\u200dि', 'ADJ', 'JJ'), (':', 'PUNCT', 'SYM'), ('योग', 'NOUN', 'NN'), ('शब्द', 'NOUN', 'NN'), ('की', 'ADP', 'PSP'), ('उत्पत्त\\u200dि', 'ADJ', 'JJ'), ('संस्कृति', 'NOUN', 'NN'), ('के', 'ADP', 'PSP'), ('युज', 'NOUN', 'NN'), ('से', 'ADP', 'PSP'), ('हुई', 'VERB', 'VM'), ('है', 'AUX', 'VAUX'), (',', 'PUNCT', 'SYM'), ('जिसका', 'PRON', 'PRP'), ('मतलब', 'NOUN', 'NN'), ('होता', 'VERB', 'VM'), ('है', 'AUX', 'VAUX'), ('आत्मा', 'NOUN', 'NN'), ('का', 'ADP', 'PSP'), ('सार्वभौमिक', 'ADJ', 'JJ'), ('चेतना', 'NOUN', 'NN'), ('से', 'ADP', 'PSP'), ('मिलन।', 'VERB', 'VM'), ('योग', 'NOUN', 'NN'), ('लगभग', 'PART', 'RP'), ('दस', 'NUM', 'QCC'), ('हजार', 'NUM', 'QC'), ('साल', 'NOUN', 'NN'), ('से', 'ADP', 'PSP'), ('भी', 'PART', 'RP'), ('अधिक', 'DET', 'QF'), ('समय', 'NOUN', 'NN'), ('से', 'ADP', 'PSP'), ('अपनाया', 'VERB', 'VM'), ('जा', 'AUX', 'VAUX'), ('रहा', 'AUX', 'VAUX'), ('है', 'AUX', 'VAUX'), ('।', 'PUNCT', 'SYM'), ('वैदिक', 'ADJ', 'JJ'), ('संहिताओं', 'NOUN', 'NN'), ('के', 'ADP', 'PSP'), ('अनुसार', 'ADP', 'PSP'), ('तपस्वियों', 'NOUN', 'NN'), ('के', 'ADP', 'PSP'), ('बारे', 'ADP', 'PSP'), ('में', 'ADP', 'PSP'), ('प्राचीन', 'ADJ', 'JJ'), ('काल', 'NOUN', 'NN'), ('से', 'ADP', 'PSP'), ('ही', 'PART', 'RP'), ('वेदों', 'NOUN', 'NN'), ('में', 'ADP', 'PSP'), ('इसका', 'PRON', 'PRP'), ('उल्लेख', 'NOUN', 'NN'), ('मिलता', 'VERB', 'VM'), ('है', 'AUX', 'VAUX'), ('।', 'PUNCT', 'SYM'), ('सिंधु', 'PROPN', 'NNPC'), ('घाटी', 'PROPN', 'NNP'), ('सभ्यता', 'NOUN', 'NN'), ('में', 'ADP', 'PSP'), ('भी', 'PART', 'RP'), ('योग', 'NOUN', 'NN'), ('और', 'CCONJ', 'CC'), ('समाधि', 'NOUN', 'NN'), ('को', 'ADP', 'PSP'), ('प्रदर्श\\u200dित', 'ADJ', 'JJ'), ('करती', 'VERB', 'VM'), ('मूर्तियां', 'NOUN', 'NN'), ('प्राप्त', 'ADJ', 'JJ'), ('हुईं', 'VERB', 'VM'), ('।', 'PUNCT', 'SYM'), ('हिन्दू', 'PROPN', 'NNPC'), ('धर्म', 'PROPN', 'NNP'), ('में', 'ADP', 'PSP'), ('साधु', 'NOUN', 'NN'), (',', 'PUNCT', 'SYM'), ('संन्यासियों', 'NOUN', 'NN'), ('व', 'CCONJ', 'CC'), ('योगियों', 'NOUN', 'NN'), ('द्वारा', 'ADP', 'PSP'), ('योग', 'NOUN', 'NNC'), ('सभ्यता', 'NOUN', 'NN'), ('को', 'ADP', 'PSP'), ('शुरू', 'NOUN', 'NN'), ('से', 'ADP', 'PSP'), ('ही', 'PART', 'RP'), ('अपनाया', 'VERB', 'VM'), ('गया', 'AUX', 'VAUX'), ('था', 'AUX', 'VAUX'), (',', 'PUNCT', 'SYM'), ('परंतु', 'CCONJ', 'CC'), ('आम', 'ADJ', 'JJ'), ('लोगों', 'NOUN', 'NN'), ('में', 'ADP', 'PSP'), ('इस', 'DET', 'DEM'), ('विधा', 'NOUN', 'NN'), ('का', 'ADP', 'PSP'), ('विस्तार', 'NOUN', 'NN'), ('हुए', 'VERB', 'VM'), ('अभी', 'PRON', 'PRP'), ('ज्यादा', 'DET', 'QF'), ('समय', 'NOUN', 'NN'), ('नहीं', 'PART', 'NEG'), ('बीता', 'VERB', 'VM'), ('है', 'AUX', 'VAUX'), ('।', 'PUNCT', 'SYM'), ('बावजुद', 'ADV', 'RB'), ('इसके', 'PRON', 'PRP'), (',', 'PUNCT', 'SYM'), ('योग', 'NOUN', 'NN'), ('की', 'ADP', 'PSP'), ('महिमा', 'NOUN', 'NN'), ('और', 'CCONJ', 'CC'), ('महत्व', 'NOUN', 'NN'), ('को', 'ADP', 'PSP'), ('जानकर', 'VERB', 'VM'), ('इसे', 'PRON', 'PRP'), ('स्वस्थ्य', 'ADJ', 'JJ'), ('जीवनशैली', 'NOUN', 'NN'), ('हेतु', 'ADP', 'PSP'), ('बड़े', 'ADJ', 'JJ'), ('पैमाने', 'NOUN', 'NN'), ('पर', 'ADP', 'PSP'), ('अपनाया', 'VERB', 'VM'), ('जा', 'AUX', 'VAUX'), ('रहा', 'AUX', 'VAUX'), ('है', 'AUX', 'VAUX'), (',', 'PUNCT', 'SYM'), ('जिसका', 'PRON', 'PRP'), ('प्रमुख', 'ADJ', 'JJ'), ('कारण', 'NOUN', 'NN'), ('है', 'AUX', 'VM'), ('व्यस्त', 'ADJ', 'JJ'), (',', 'PUNCT', 'SYM'), ('तनावपूर्ण', 'ADJ', 'JJ'), ('और', 'CCONJ', 'CC'), ('अस्वस्थ', 'ADJ', 'JJ'), ('दिनचर्या', 'NOUN', 'NN'), ('में', 'ADP', 'PSP'), ('इसके', 'PRON', 'PRP'), ('सकारात्मक', 'ADJ', 'JJ'), ('प्रभाव', 'NOUN', 'NN'), ('।', 'PUNCT', 'SYM')]\n"
     ]
    }
   ],
   "source": [
    "hindi_pos_tags = [(word.text, word.upos, word.xpos) for sent in document.sentences for word in sent.words if word.text not in stop_words]\n",
    "print(hindi_pos_tags)"
   ]
  },
  {
   "cell_type": "markdown",
   "metadata": {},
   "source": [
    "Application\n",
    "- They will diffrentiate the sense of words and removes ambiguity."
   ]
  },
  {
   "cell_type": "markdown",
   "metadata": {},
   "source": [
    "# Lemmatization"
   ]
  },
  {
   "cell_type": "code",
   "execution_count": 11,
   "metadata": {},
   "outputs": [
    {
     "name": "stdout",
     "output_type": "stream",
     "text": [
      "[('योग', 'योग'), ('शब्द', 'शब्द'), ('की', 'का'), ('उत्पत्त\\u200dि', 'उत्पत्त\\u200dि'), (':', ':'), ('योग', 'योग'), ('शब्द', 'शब्द'), ('की', 'का'), ('उत्पत्त\\u200dि', 'उत्पत्त\\u200dि'), ('संस्कृति', 'संस्कृति'), ('के', 'का'), ('युज', 'युज'), ('से', 'से'), ('हुई', 'हो'), ('है', 'है'), (',', 'COMMA'), ('जिसका', 'जो'), ('मतलब', 'मतलब'), ('होता', 'हो'), ('है', 'है'), ('आत्मा', 'आत्मा'), ('का', 'का'), ('सार्वभौमिक', 'सार्वभौमिक'), ('चेतना', 'चेतना'), ('से', 'से'), ('मिलन।', 'मिल'), ('योग', 'योग'), ('लगभग', 'लगभग'), ('दस', 'दस'), ('हजार', 'हजार'), ('साल', 'साल'), ('से', 'से'), ('भी', 'भी'), ('अधिक', 'अधिक'), ('समय', 'समय'), ('से', 'से'), ('अपनाया', 'अपना'), ('जा', 'जा'), ('रहा', 'रह'), ('है', 'है'), ('।', '।'), ('वैदिक', 'वैदिक'), ('संहिताओं', 'संहिता'), ('के', 'का'), ('अनुसार', 'अनुसार'), ('तपस्वियों', 'तपस्वी'), ('के', 'का'), ('बारे', 'बारे'), ('में', 'में'), ('प्राचीन', 'प्राचीन'), ('काल', 'काल'), ('से', 'से'), ('ही', 'ही'), ('वेदों', 'वेद'), ('में', 'में'), ('इसका', 'यह'), ('उल्लेख', 'उल्लेख'), ('मिलता', 'मिल'), ('है', 'है'), ('।', '।'), ('सिंधु', 'सिंधु'), ('घाटी', 'घाटी'), ('सभ्यता', 'सभ्यता'), ('में', 'में'), ('भी', 'भी'), ('योग', 'योग'), ('और', 'और'), ('समाधि', 'समाधि'), ('को', 'को'), ('प्रदर्श\\u200dित', 'प्रदर्शिित'), ('करती', 'कर'), ('मूर्तियां', 'मूर्ति'), ('प्राप्त', 'प्राप्त'), ('हुईं', 'हो'), ('।', '।'), ('हिन्दू', 'हिन्दू'), ('धर्म', 'धर्म'), ('में', 'में'), ('साधु', 'साधु'), (',', 'COMMA'), ('संन्यासियों', 'संन्यासी'), ('व', 'व'), ('योगियों', 'योगी'), ('द्वारा', 'द्वारा'), ('योग', 'योग'), ('सभ्यता', 'सभ्यता'), ('को', 'को'), ('शुरू', 'शुरू'), ('से', 'से'), ('ही', 'ही'), ('अपनाया', 'अपना'), ('गया', 'जा'), ('था', 'था'), (',', 'COMMA'), ('परंतु', 'परंतु'), ('आम', 'आम'), ('लोगों', 'लोग'), ('में', 'में'), ('इस', 'यह'), ('विधा', 'विधा'), ('का', 'का'), ('विस्तार', 'विस्तार'), ('हुए', 'हो'), ('अभी', 'अभी'), ('ज्यादा', 'ज्यादा'), ('समय', 'समय'), ('नहीं', 'नहीं'), ('बीता', 'बीत'), ('है', 'है'), ('।', '।'), ('बावजुद', 'बावजुद'), ('इसके', 'यह'), (',', 'COMMA'), ('योग', 'योग'), ('की', 'का'), ('महिमा', 'महिमा'), ('और', 'और'), ('महत्व', 'महत्व'), ('को', 'को'), ('जानकर', 'जान'), ('इसे', 'यह'), ('स्वस्थ्य', 'स्वस्थ्य'), ('जीवनशैली', 'जीवनशैली'), ('हेतु', 'हेतु'), ('बड़े', 'बड़ा'), ('पैमाने', 'पैमाना'), ('पर', 'पर'), ('अपनाया', 'अपना'), ('जा', 'जा'), ('रहा', 'रह'), ('है', 'है'), (',', 'COMMA'), ('जिसका', 'जो'), ('प्रमुख', 'प्रमुख'), ('कारण', 'कारण'), ('है', 'है'), ('व्यस्त', 'व्यस्त'), (',', 'COMMA'), ('तनावपूर्ण', 'तनावपूर्ण'), ('और', 'और'), ('अस्वस्थ', 'अस्वस्थ'), ('दिनचर्या', 'दिनचर्या'), ('में', 'में'), ('इसके', 'यह'), ('सकारात्मक', 'सकारात्मक'), ('प्रभाव', 'प्रभाव'), ('।', '।')]\n"
     ]
    }
   ],
   "source": [
    "hindi_words_lemma = [(word.text, word.lemma) for sent in document.sentences for word in sent.words if word.text not in stop_words]\n",
    "print(hindi_words_lemma)"
   ]
  },
  {
   "cell_type": "markdown",
   "metadata": {},
   "source": [
    "Application\n",
    "- Search Engines/Tools/Extension\n",
    "- Educational Software/Applications\n",
    "- Text Analysis"
   ]
  },
  {
   "cell_type": "markdown",
   "metadata": {},
   "source": [
    "# Morphology"
   ]
  },
  {
   "cell_type": "code",
   "execution_count": 12,
   "metadata": {},
   "outputs": [
    {
     "name": "stdout",
     "output_type": "stream",
     "text": [
      "word: योग\tupos: NOUN\txpos: NNC\tfeats: Case=Nom|Gender=Masc|Number=Sing|Person=3\n",
      "word: शब्द\tupos: NOUN\txpos: NN\tfeats: Case=Acc|Gender=Masc|Number=Sing|Person=3\n",
      "word: की\tupos: ADP\txpos: PSP\tfeats: AdpType=Post|Case=Nom|Gender=Fem|Number=Sing\n",
      "word: उत्पत्त‍ि\tupos: ADJ\txpos: JJ\tfeats: Case=Nom\n",
      "word: :\tupos: PUNCT\txpos: SYM\tfeats: _\n",
      "word: योग\tupos: NOUN\txpos: NN\tfeats: Case=Nom|Gender=Masc|Number=Sing|Person=3\n",
      "word: शब्द\tupos: NOUN\txpos: NN\tfeats: Case=Acc|Gender=Masc|Number=Sing|Person=3\n",
      "word: की\tupos: ADP\txpos: PSP\tfeats: AdpType=Post|Case=Acc|Gender=Fem|Number=Sing\n",
      "word: उत्पत्त‍ि\tupos: ADJ\txpos: JJ\tfeats: Case=Acc\n",
      "word: संस्कृति\tupos: NOUN\txpos: NN\tfeats: Case=Acc|Gender=Fem|Number=Sing|Person=3\n",
      "word: के\tupos: ADP\txpos: PSP\tfeats: AdpType=Post|Case=Acc|Gender=Masc|Number=Sing\n",
      "word: युज\tupos: NOUN\txpos: NN\tfeats: Case=Acc|Gender=Masc|Number=Sing|Person=3\n",
      "word: से\tupos: ADP\txpos: PSP\tfeats: AdpType=Post\n",
      "word: हुई\tupos: VERB\txpos: VM\tfeats: Aspect=Perf|Gender=Fem|Number=Sing|Person=3|VerbForm=Part|Voice=Act\n",
      "word: है\tupos: AUX\txpos: VAUX\tfeats: Mood=Ind|Number=Sing|Person=3|Tense=Pres|VerbForm=Fin\n",
      "word: ,\tupos: PUNCT\txpos: SYM\tfeats: _\n",
      "word: जिसका\tupos: PRON\txpos: PRP\tfeats: Case=Acc,Gen|Gender=Masc|Number=Sing|Person=3|Poss=Yes|PronType=Prs\n",
      "word: मतलब\tupos: NOUN\txpos: NN\tfeats: Case=Nom|Gender=Masc|Number=Sing|Person=3\n",
      "word: होता\tupos: VERB\txpos: VM\tfeats: Aspect=Imp|Gender=Masc|Number=Sing|Person=3|VerbForm=Part|Voice=Act\n",
      "word: है\tupos: AUX\txpos: VAUX\tfeats: Mood=Ind|Number=Sing|Person=3|Tense=Pres|VerbForm=Fin\n",
      "word: आत्मा\tupos: NOUN\txpos: NN\tfeats: Case=Acc|Gender=Fem|Number=Sing|Person=3\n",
      "word: का\tupos: ADP\txpos: PSP\tfeats: AdpType=Post|Case=Nom|Gender=Masc|Number=Sing\n",
      "word: सार्वभौमिक\tupos: ADJ\txpos: JJ\tfeats: Case=Acc\n",
      "word: चेतना\tupos: NOUN\txpos: NN\tfeats: Case=Acc|Gender=Fem|Number=Sing|Person=3\n",
      "word: से\tupos: ADP\txpos: PSP\tfeats: AdpType=Post\n",
      "word: मिलन।\tupos: VERB\txpos: VM\tfeats: Gender=Masc|Mood=Ind|Number=Sing|VerbForm=Fin|Voice=Act\n",
      "word: योग\tupos: NOUN\txpos: NN\tfeats: Case=Nom|Gender=Masc|Number=Sing|Person=3\n",
      "word: लगभग\tupos: PART\txpos: RP\tfeats: _\n",
      "word: दस\tupos: NUM\txpos: QCC\tfeats: NumType=Card\n",
      "word: हजार\tupos: NUM\txpos: QC\tfeats: NumType=Card\n",
      "word: साल\tupos: NOUN\txpos: NN\tfeats: Case=Acc|Gender=Masc|Number=Sing|Person=3\n",
      "word: से\tupos: ADP\txpos: PSP\tfeats: AdpType=Post\n",
      "word: भी\tupos: PART\txpos: RP\tfeats: _\n",
      "word: अधिक\tupos: DET\txpos: QF\tfeats: PronType=Ind\n",
      "word: समय\tupos: NOUN\txpos: NN\tfeats: Case=Acc|Gender=Masc|Number=Sing|Person=3\n",
      "word: से\tupos: ADP\txpos: PSP\tfeats: AdpType=Post\n",
      "word: अपनाया\tupos: VERB\txpos: VM\tfeats: Aspect=Perf|Gender=Masc|Number=Sing|Person=3|VerbForm=Part|Voice=Pass\n",
      "word: जा\tupos: AUX\txpos: VAUX\tfeats: _\n",
      "word: रहा\tupos: AUX\txpos: VAUX\tfeats: Aspect=Perf|Gender=Masc|Number=Sing|VerbForm=Part\n",
      "word: है\tupos: AUX\txpos: VAUX\tfeats: Mood=Ind|Number=Sing|Person=3|Tense=Pres|VerbForm=Fin\n",
      "word: ।\tupos: PUNCT\txpos: SYM\tfeats: _\n",
      "word: वैदिक\tupos: ADJ\txpos: JJ\tfeats: Case=Acc\n",
      "word: संहिताओं\tupos: NOUN\txpos: NN\tfeats: Case=Acc|Gender=Fem|Number=Plur|Person=3\n",
      "word: के\tupos: ADP\txpos: PSP\tfeats: AdpType=Post\n",
      "word: अनुसार\tupos: ADP\txpos: PSP\tfeats: AdpType=Post\n",
      "word: तपस्वियों\tupos: NOUN\txpos: NN\tfeats: Case=Acc|Gender=Fem|Number=Plur|Person=3\n",
      "word: के\tupos: ADP\txpos: PSP\tfeats: AdpType=Post\n",
      "word: बारे\tupos: ADP\txpos: PSP\tfeats: AdpType=Post\n",
      "word: में\tupos: ADP\txpos: PSP\tfeats: AdpType=Post\n",
      "word: प्राचीन\tupos: ADJ\txpos: JJ\tfeats: Case=Acc\n",
      "word: काल\tupos: NOUN\txpos: NN\tfeats: Case=Acc|Gender=Masc|Number=Sing|Person=3\n",
      "word: से\tupos: ADP\txpos: PSP\tfeats: AdpType=Post\n",
      "word: ही\tupos: PART\txpos: RP\tfeats: _\n",
      "word: वेदों\tupos: NOUN\txpos: NN\tfeats: Case=Acc|Gender=Masc|Number=Plur|Person=3\n",
      "word: में\tupos: ADP\txpos: PSP\tfeats: AdpType=Post\n",
      "word: इसका\tupos: PRON\txpos: PRP\tfeats: Case=Acc,Gen|Gender=Masc|Number=Sing|Person=3|Poss=Yes|PronType=Prs\n",
      "word: उल्लेख\tupos: NOUN\txpos: NN\tfeats: Case=Nom|Gender=Masc|Number=Sing|Person=3\n",
      "word: मिलता\tupos: VERB\txpos: VM\tfeats: Aspect=Imp|Gender=Masc|Number=Sing|Person=3|VerbForm=Part|Voice=Act\n",
      "word: है\tupos: AUX\txpos: VAUX\tfeats: Mood=Ind|Number=Sing|Person=3|Tense=Pres|VerbForm=Fin\n",
      "word: ।\tupos: PUNCT\txpos: SYM\tfeats: _\n",
      "word: सिंधु\tupos: PROPN\txpos: NNPC\tfeats: Case=Nom|Gender=Masc|Number=Sing|Person=3\n",
      "word: घाटी\tupos: PROPN\txpos: NNP\tfeats: Case=Nom|Gender=Fem|Number=Sing|Person=3\n",
      "word: सभ्यता\tupos: NOUN\txpos: NN\tfeats: Case=Acc|Gender=Fem|Number=Sing|Person=3\n",
      "word: में\tupos: ADP\txpos: PSP\tfeats: AdpType=Post\n",
      "word: भी\tupos: PART\txpos: RP\tfeats: _\n",
      "word: योग\tupos: NOUN\txpos: NN\tfeats: Case=Acc|Gender=Masc|Number=Sing|Person=3\n",
      "word: और\tupos: CCONJ\txpos: CC\tfeats: _\n",
      "word: समाधि\tupos: NOUN\txpos: NN\tfeats: Case=Acc|Gender=Fem|Number=Sing|Person=3\n",
      "word: को\tupos: ADP\txpos: PSP\tfeats: AdpType=Post\n",
      "word: प्रदर्श‍ित\tupos: ADJ\txpos: JJ\tfeats: _\n",
      "word: करती\tupos: VERB\txpos: VM\tfeats: Aspect=Imp|Gender=Fem|Number=Plur|VerbForm=Part\n",
      "word: मूर्तियां\tupos: NOUN\txpos: NN\tfeats: Case=Nom|Gender=Fem|Number=Plur|Person=3\n",
      "word: प्राप्त\tupos: ADJ\txpos: JJ\tfeats: _\n",
      "word: हुईं\tupos: VERB\txpos: VM\tfeats: Aspect=Perf|Gender=Fem|Number=Plur|VerbForm=Part|Voice=Act\n",
      "word: ।\tupos: PUNCT\txpos: SYM\tfeats: _\n",
      "word: हिन्दू\tupos: PROPN\txpos: NNPC\tfeats: Case=Nom|Gender=Masc|Number=Sing|Person=3\n",
      "word: धर्म\tupos: PROPN\txpos: NNP\tfeats: Case=Acc|Gender=Masc|Number=Sing|Person=3\n",
      "word: में\tupos: ADP\txpos: PSP\tfeats: AdpType=Post\n",
      "word: साधु\tupos: NOUN\txpos: NN\tfeats: Case=Acc|Gender=Masc|Number=Sing|Person=3\n",
      "word: ,\tupos: PUNCT\txpos: SYM\tfeats: _\n",
      "word: संन्यासियों\tupos: NOUN\txpos: NN\tfeats: Case=Acc|Gender=Masc|Number=Plur|Person=3\n",
      "word: व\tupos: CCONJ\txpos: CC\tfeats: _\n",
      "word: योगियों\tupos: NOUN\txpos: NN\tfeats: Case=Acc|Gender=Masc|Number=Plur|Person=3\n",
      "word: द्वारा\tupos: ADP\txpos: PSP\tfeats: AdpType=Post\n",
      "word: योग\tupos: NOUN\txpos: NNC\tfeats: Case=Nom|Gender=Masc|Number=Sing|Person=3\n",
      "word: सभ्यता\tupos: NOUN\txpos: NN\tfeats: Case=Acc|Gender=Fem|Number=Sing|Person=3\n",
      "word: को\tupos: ADP\txpos: PSP\tfeats: AdpType=Post\n",
      "word: शुरू\tupos: NOUN\txpos: NN\tfeats: Case=Acc|Gender=Masc|Number=Sing|Person=3\n",
      "word: से\tupos: ADP\txpos: PSP\tfeats: AdpType=Post\n",
      "word: ही\tupos: PART\txpos: RP\tfeats: _\n",
      "word: अपनाया\tupos: VERB\txpos: VM\tfeats: Aspect=Perf|Gender=Masc|Number=Sing|VerbForm=Part|Voice=Pass\n",
      "word: गया\tupos: AUX\txpos: VAUX\tfeats: Aspect=Perf|Gender=Masc|Number=Sing|VerbForm=Part\n",
      "word: था\tupos: AUX\txpos: VAUX\tfeats: Gender=Masc|Mood=Ind|Number=Sing|Tense=Past|VerbForm=Fin\n",
      "word: ,\tupos: PUNCT\txpos: SYM\tfeats: _\n",
      "word: परंतु\tupos: CCONJ\txpos: CC\tfeats: _\n",
      "word: आम\tupos: ADJ\txpos: JJ\tfeats: Case=Acc\n",
      "word: लोगों\tupos: NOUN\txpos: NN\tfeats: Case=Acc|Gender=Masc|Number=Plur|Person=3\n",
      "word: में\tupos: ADP\txpos: PSP\tfeats: AdpType=Post\n",
      "word: इस\tupos: DET\txpos: DEM\tfeats: Case=Acc|Number=Sing|Person=3|PronType=Dem\n",
      "word: विधा\tupos: NOUN\txpos: NN\tfeats: Case=Acc|Gender=Fem|Number=Sing|Person=3\n",
      "word: का\tupos: ADP\txpos: PSP\tfeats: AdpType=Post|Case=Nom|Gender=Masc|Number=Sing\n",
      "word: विस्तार\tupos: NOUN\txpos: NN\tfeats: Case=Nom|Gender=Masc|Number=Sing|Person=3\n",
      "word: हुए\tupos: VERB\txpos: VM\tfeats: Aspect=Perf|Gender=Masc|Number=Sing|VerbForm=Part\n",
      "word: अभी\tupos: PRON\txpos: PRP\tfeats: Case=Nom|PronType=Prs\n",
      "word: ज्यादा\tupos: DET\txpos: QF\tfeats: PronType=Ind\n",
      "word: समय\tupos: NOUN\txpos: NN\tfeats: Case=Nom|Gender=Masc|Number=Sing|Person=3\n",
      "word: नहीं\tupos: PART\txpos: NEG\tfeats: Polarity=Neg|PronType=Neg\n",
      "word: बीता\tupos: VERB\txpos: VM\tfeats: Aspect=Perf|Gender=Masc|Number=Sing|Person=3|VerbForm=Part|Voice=Act\n",
      "word: है\tupos: AUX\txpos: VAUX\tfeats: Mood=Ind|Number=Sing|Person=3|Tense=Pres|VerbForm=Fin\n",
      "word: ।\tupos: PUNCT\txpos: SYM\tfeats: _\n",
      "word: बावजुद\tupos: ADV\txpos: RB\tfeats: _\n",
      "word: इसके\tupos: PRON\txpos: PRP\tfeats: Case=Acc,Gen|Number=Sing|Person=3|Poss=Yes|PronType=Prs\n",
      "word: ,\tupos: PUNCT\txpos: SYM\tfeats: _\n",
      "word: योग\tupos: NOUN\txpos: NN\tfeats: Case=Acc|Gender=Masc|Number=Sing|Person=3\n",
      "word: की\tupos: ADP\txpos: PSP\tfeats: AdpType=Post|Case=Acc|Gender=Fem|Number=Sing\n",
      "word: महिमा\tupos: NOUN\txpos: NN\tfeats: Case=Acc|Gender=Fem|Number=Sing|Person=3\n",
      "word: और\tupos: CCONJ\txpos: CC\tfeats: _\n",
      "word: महत्व\tupos: NOUN\txpos: NN\tfeats: Case=Acc|Gender=Masc|Number=Sing|Person=3\n",
      "word: को\tupos: ADP\txpos: PSP\tfeats: AdpType=Post\n",
      "word: जानकर\tupos: VERB\txpos: VM\tfeats: VerbForm=Conv\n",
      "word: इसे\tupos: PRON\txpos: PRP\tfeats: Case=Acc,Dat|Number=Sing|Person=3|PronType=Prs\n",
      "word: स्वस्थ्य\tupos: ADJ\txpos: JJ\tfeats: Case=Acc\n",
      "word: जीवनशैली\tupos: NOUN\txpos: NN\tfeats: Case=Acc|Gender=Fem|Number=Sing|Person=3\n",
      "word: हेतु\tupos: ADP\txpos: PSP\tfeats: AdpType=Post\n",
      "word: बड़े\tupos: ADJ\txpos: JJ\tfeats: Case=Acc|Gender=Masc|Number=Sing\n",
      "word: पैमाने\tupos: NOUN\txpos: NN\tfeats: Case=Acc|Gender=Masc|Number=Sing|Person=3\n",
      "word: पर\tupos: ADP\txpos: PSP\tfeats: AdpType=Post\n",
      "word: अपनाया\tupos: VERB\txpos: VM\tfeats: Aspect=Perf|Gender=Masc|Number=Sing|Person=3|VerbForm=Part|Voice=Pass\n",
      "word: जा\tupos: AUX\txpos: VAUX\tfeats: _\n",
      "word: रहा\tupos: AUX\txpos: VAUX\tfeats: Aspect=Perf|Gender=Masc|Number=Sing|VerbForm=Part\n",
      "word: है\tupos: AUX\txpos: VAUX\tfeats: Mood=Ind|Number=Sing|Person=3|Tense=Pres|VerbForm=Fin\n",
      "word: ,\tupos: PUNCT\txpos: SYM\tfeats: _\n",
      "word: जिसका\tupos: PRON\txpos: PRP\tfeats: Case=Acc,Gen|Gender=Masc|Number=Sing|Person=3|Poss=Yes|PronType=Prs\n",
      "word: प्रमुख\tupos: ADJ\txpos: JJ\tfeats: Case=Nom\n",
      "word: कारण\tupos: NOUN\txpos: NN\tfeats: Case=Nom|Gender=Masc|Number=Sing|Person=3\n",
      "word: है\tupos: AUX\txpos: VM\tfeats: Mood=Ind|Number=Sing|Person=3|Tense=Pres|VerbForm=Fin|Voice=Act\n",
      "word: व्यस्त\tupos: ADJ\txpos: JJ\tfeats: Case=Acc\n",
      "word: ,\tupos: PUNCT\txpos: SYM\tfeats: _\n",
      "word: तनावपूर्ण\tupos: ADJ\txpos: JJ\tfeats: Case=Acc\n",
      "word: और\tupos: CCONJ\txpos: CC\tfeats: _\n",
      "word: अस्वस्थ\tupos: ADJ\txpos: JJ\tfeats: Case=Acc\n",
      "word: दिनचर्या\tupos: NOUN\txpos: NN\tfeats: Case=Acc|Gender=Fem|Number=Sing|Person=3\n",
      "word: में\tupos: ADP\txpos: PSP\tfeats: AdpType=Post\n",
      "word: इसके\tupos: PRON\txpos: PRP\tfeats: Case=Acc,Gen|Gender=Masc|Number=Sing|Person=3|Poss=Yes|PronType=Prs\n",
      "word: सकारात्मक\tupos: ADJ\txpos: JJ\tfeats: Case=Nom\n",
      "word: प्रभाव\tupos: NOUN\txpos: NN\tfeats: Case=Nom|Gender=Masc|Number=Sing|Person=3\n",
      "word: ।\tupos: PUNCT\txpos: SYM\tfeats: _\n"
     ]
    }
   ],
   "source": [
    "print(*[f'word: {word.text}\\tupos: {word.upos}\\txpos: {word.xpos}\\tfeats: {word.feats if word.feats else \"_\"}' for sent in document.sentences for word in sent.words if word.text not in stop_words], sep='\\n')"
   ]
  },
  {
   "cell_type": "markdown",
   "metadata": {},
   "source": [
    "Application\n",
    "- producing morphological variants of a root/base word\n",
    "- information retrieval systems like search engines\n",
    "- determine domain vocabularies in domain analysis."
   ]
  },
  {
   "cell_type": "markdown",
   "metadata": {},
   "source": [
    "# Deparsed words"
   ]
  },
  {
   "cell_type": "code",
   "execution_count": 13,
   "metadata": {},
   "outputs": [
    {
     "name": "stdout",
     "output_type": "stream",
     "text": [
      "id: 1\tword: योग\thead id: 2\thead: शब्द\tdeprel: compound\n",
      "id: 2\tword: शब्द\thead id: 6\thead: योग\tdeprel: nmod\n",
      "id: 3\tword: की\thead id: 2\thead: शब्द\tdeprel: case\n",
      "id: 4\tword: उत्पत्त‍ि\thead id: 6\thead: योग\tdeprel: amod\n",
      "id: 5\tword: :\thead id: 4\thead: उत्पत्त‍ि\tdeprel: punct\n",
      "id: 6\tword: योग\thead id: 14\thead: हुई\tdeprel: nsubj\n",
      "id: 7\tword: शब्द\thead id: 10\thead: संस्कृति\tdeprel: nmod\n",
      "id: 8\tword: की\thead id: 7\thead: शब्द\tdeprel: case\n",
      "id: 9\tword: उत्पत्त‍ि\thead id: 10\thead: संस्कृति\tdeprel: amod\n",
      "id: 10\tword: संस्कृति\thead id: 12\thead: युज\tdeprel: nmod\n",
      "id: 11\tword: के\thead id: 10\thead: संस्कृति\tdeprel: case\n",
      "id: 12\tword: युज\thead id: 14\thead: हुई\tdeprel: obl\n",
      "id: 13\tword: से\thead id: 12\thead: युज\tdeprel: case\n",
      "id: 14\tword: हुई\thead id: 0\thead: root\tdeprel: root\n",
      "id: 15\tword: है\thead id: 14\thead: हुई\tdeprel: aux\n",
      "id: 16\tword: ,\thead id: 14\thead: हुई\tdeprel: punct\n",
      "id: 17\tword: जिसका\thead id: 18\thead: मतलब\tdeprel: nmod\n",
      "id: 18\tword: मतलब\thead id: 19\thead: होता\tdeprel: nsubj\n",
      "id: 19\tword: होता\thead id: 10\thead: संस्कृति\tdeprel: acl:relcl\n",
      "id: 20\tword: है\thead id: 19\thead: होता\tdeprel: aux\n",
      "id: 21\tword: आत्मा\thead id: 24\thead: चेतना\tdeprel: nmod\n",
      "id: 22\tword: का\thead id: 21\thead: आत्मा\tdeprel: case\n",
      "id: 23\tword: सार्वभौमिक\thead id: 24\thead: चेतना\tdeprel: amod\n",
      "id: 24\tword: चेतना\thead id: 26\thead: मिलन।\tdeprel: obl\n",
      "id: 25\tword: से\thead id: 24\thead: चेतना\tdeprel: case\n",
      "id: 26\tword: मिलन।\thead id: 19\thead: होता\tdeprel: conj\n",
      "id: 1\tword: योग\thead id: 11\thead: अपनाया\tdeprel: obj\n",
      "id: 2\tword: लगभग\thead id: 4\thead: हजार\tdeprel: dep\n",
      "id: 3\tword: दस\thead id: 4\thead: हजार\tdeprel: dep\n",
      "id: 4\tword: हजार\thead id: 5\thead: साल\tdeprel: nummod\n",
      "id: 5\tword: साल\thead id: 8\thead: अधिक\tdeprel: obl\n",
      "id: 6\tword: से\thead id: 5\thead: साल\tdeprel: case\n",
      "id: 7\tword: भी\thead id: 5\thead: साल\tdeprel: dep\n",
      "id: 8\tword: अधिक\thead id: 9\thead: समय\tdeprel: amod\n",
      "id: 9\tword: समय\thead id: 11\thead: अपनाया\tdeprel: obl\n",
      "id: 10\tword: से\thead id: 9\thead: समय\tdeprel: case\n",
      "id: 11\tword: अपनाया\thead id: 0\thead: root\tdeprel: root\n",
      "id: 12\tword: जा\thead id: 11\thead: अपनाया\tdeprel: aux:pass\n",
      "id: 13\tword: रहा\thead id: 11\thead: अपनाया\tdeprel: aux:pass\n",
      "id: 14\tword: है\thead id: 11\thead: अपनाया\tdeprel: aux:pass\n",
      "id: 15\tword: ।\thead id: 11\thead: अपनाया\tdeprel: punct\n",
      "id: 1\tword: वैदिक\thead id: 2\thead: संहिताओं\tdeprel: amod\n",
      "id: 2\tword: संहिताओं\thead id: 17\thead: मिलता\tdeprel: obl\n",
      "id: 3\tword: के\thead id: 2\thead: संहिताओं\tdeprel: case\n",
      "id: 4\tword: अनुसार\thead id: 2\thead: संहिताओं\tdeprel: case\n",
      "id: 5\tword: तपस्वियों\thead id: 17\thead: मिलता\tdeprel: obl\n",
      "id: 6\tword: के\thead id: 5\thead: तपस्वियों\tdeprel: case\n",
      "id: 7\tword: बारे\thead id: 5\thead: तपस्वियों\tdeprel: case\n",
      "id: 8\tword: में\thead id: 5\thead: तपस्वियों\tdeprel: case\n",
      "id: 9\tword: प्राचीन\thead id: 10\thead: काल\tdeprel: amod\n",
      "id: 10\tword: काल\thead id: 17\thead: मिलता\tdeprel: obl\n",
      "id: 11\tword: से\thead id: 10\thead: काल\tdeprel: case\n",
      "id: 12\tword: ही\thead id: 10\thead: काल\tdeprel: dep\n",
      "id: 13\tword: वेदों\thead id: 17\thead: मिलता\tdeprel: obl\n",
      "id: 14\tword: में\thead id: 13\thead: वेदों\tdeprel: case\n",
      "id: 15\tword: इसका\thead id: 16\thead: उल्लेख\tdeprel: nmod\n",
      "id: 16\tword: उल्लेख\thead id: 17\thead: मिलता\tdeprel: nsubj\n",
      "id: 17\tword: मिलता\thead id: 0\thead: root\tdeprel: root\n",
      "id: 18\tword: है\thead id: 17\thead: मिलता\tdeprel: aux\n",
      "id: 19\tword: ।\thead id: 17\thead: मिलता\tdeprel: punct\n",
      "id: 1\tword: सिंधु\thead id: 2\thead: घाटी\tdeprel: compound\n",
      "id: 2\tword: घाटी\thead id: 14\thead: हुईं\tdeprel: nsubj\n",
      "id: 3\tword: सभ्यता\thead id: 14\thead: हुईं\tdeprel: obl\n",
      "id: 4\tword: में\thead id: 3\thead: सभ्यता\tdeprel: case\n",
      "id: 5\tword: भी\thead id: 3\thead: सभ्यता\tdeprel: dep\n",
      "id: 6\tword: योग\thead id: 11\thead: करती\tdeprel: obj\n",
      "id: 7\tword: और\thead id: 8\thead: समाधि\tdeprel: cc\n",
      "id: 8\tword: समाधि\thead id: 6\thead: योग\tdeprel: conj\n",
      "id: 9\tword: को\thead id: 6\thead: योग\tdeprel: case\n",
      "id: 10\tword: प्रदर्श‍ित\thead id: 11\thead: करती\tdeprel: compound\n",
      "id: 11\tword: करती\thead id: 12\thead: मूर्तियां\tdeprel: acl\n",
      "id: 12\tword: मूर्तियां\thead id: 14\thead: हुईं\tdeprel: nsubj\n",
      "id: 13\tword: प्राप्त\thead id: 14\thead: हुईं\tdeprel: compound\n",
      "id: 14\tword: हुईं\thead id: 0\thead: root\tdeprel: root\n",
      "id: 15\tword: ।\thead id: 14\thead: हुईं\tdeprel: punct\n",
      "id: 1\tword: हिन्दू\thead id: 2\thead: धर्म\tdeprel: compound\n",
      "id: 2\tword: धर्म\thead id: 16\thead: अपनाया\tdeprel: obl\n",
      "id: 3\tword: में\thead id: 2\thead: धर्म\tdeprel: case\n",
      "id: 4\tword: साधु\thead id: 16\thead: अपनाया\tdeprel: nsubj:pass\n",
      "id: 5\tword: ,\thead id: 6\thead: संन्यासियों\tdeprel: punct\n",
      "id: 6\tword: संन्यासियों\thead id: 4\thead: साधु\tdeprel: conj\n",
      "id: 7\tword: व\thead id: 8\thead: योगियों\tdeprel: cc\n",
      "id: 8\tword: योगियों\thead id: 4\thead: साधु\tdeprel: conj\n",
      "id: 9\tword: द्वारा\thead id: 4\thead: साधु\tdeprel: case\n",
      "id: 10\tword: योग\thead id: 11\thead: सभ्यता\tdeprel: compound\n",
      "id: 11\tword: सभ्यता\thead id: 16\thead: अपनाया\tdeprel: obj\n",
      "id: 12\tword: को\thead id: 11\thead: सभ्यता\tdeprel: case\n",
      "id: 13\tword: शुरू\thead id: 16\thead: अपनाया\tdeprel: obl\n",
      "id: 14\tword: से\thead id: 13\thead: शुरू\tdeprel: case\n",
      "id: 15\tword: ही\thead id: 13\thead: शुरू\tdeprel: dep\n",
      "id: 16\tword: अपनाया\thead id: 0\thead: root\tdeprel: root\n",
      "id: 17\tword: गया\thead id: 16\thead: अपनाया\tdeprel: aux:pass\n",
      "id: 18\tword: था\thead id: 16\thead: अपनाया\tdeprel: aux:pass\n",
      "id: 19\tword: ,\thead id: 33\thead: बीता\tdeprel: punct\n",
      "id: 20\tword: परंतु\thead id: 33\thead: बीता\tdeprel: cc\n",
      "id: 21\tword: आम\thead id: 22\thead: लोगों\tdeprel: amod\n",
      "id: 22\tword: लोगों\thead id: 28\thead: हुए\tdeprel: obl\n",
      "id: 23\tword: में\thead id: 22\thead: लोगों\tdeprel: case\n",
      "id: 24\tword: इस\thead id: 25\thead: विधा\tdeprel: det\n",
      "id: 25\tword: विधा\thead id: 27\thead: विस्तार\tdeprel: nmod\n",
      "id: 26\tword: का\thead id: 25\thead: विधा\tdeprel: case\n",
      "id: 27\tword: विस्तार\thead id: 28\thead: हुए\tdeprel: compound\n",
      "id: 28\tword: हुए\thead id: 33\thead: बीता\tdeprel: advcl\n",
      "id: 29\tword: अभी\thead id: 33\thead: बीता\tdeprel: obl\n",
      "id: 30\tword: ज्यादा\thead id: 31\thead: समय\tdeprel: det\n",
      "id: 31\tword: समय\thead id: 33\thead: बीता\tdeprel: nsubj\n",
      "id: 32\tword: नहीं\thead id: 33\thead: बीता\tdeprel: advmod\n",
      "id: 33\tword: बीता\thead id: 16\thead: अपनाया\tdeprel: conj\n",
      "id: 34\tword: है\thead id: 33\thead: बीता\tdeprel: aux\n",
      "id: 35\tword: ।\thead id: 16\thead: अपनाया\tdeprel: punct\n",
      "id: 1\tword: बावजुद\thead id: 18\thead: अपनाया\tdeprel: obl\n",
      "id: 2\tword: इसके\thead id: 10\thead: जानकर\tdeprel: obj\n",
      "id: 3\tword: ,\thead id: 6\thead: महिमा\tdeprel: punct\n",
      "id: 4\tword: योग\thead id: 6\thead: महिमा\tdeprel: nmod\n",
      "id: 5\tword: की\thead id: 4\thead: योग\tdeprel: case\n",
      "id: 6\tword: महिमा\thead id: 2\thead: इसके\tdeprel: conj\n",
      "id: 7\tword: और\thead id: 8\thead: महत्व\tdeprel: cc\n",
      "id: 8\tword: महत्व\thead id: 2\thead: इसके\tdeprel: conj\n",
      "id: 9\tword: को\thead id: 8\thead: महत्व\tdeprel: case\n",
      "id: 10\tword: जानकर\thead id: 18\thead: अपनाया\tdeprel: advcl\n",
      "id: 11\tword: इसे\thead id: 18\thead: अपनाया\tdeprel: obj\n",
      "id: 12\tword: स्वस्थ्य\thead id: 13\thead: जीवनशैली\tdeprel: amod\n",
      "id: 13\tword: जीवनशैली\thead id: 18\thead: अपनाया\tdeprel: obl\n",
      "id: 14\tword: हेतु\thead id: 13\thead: जीवनशैली\tdeprel: case\n",
      "id: 15\tword: बड़े\thead id: 16\thead: पैमाने\tdeprel: amod\n",
      "id: 16\tword: पैमाने\thead id: 18\thead: अपनाया\tdeprel: obl\n",
      "id: 17\tword: पर\thead id: 16\thead: पैमाने\tdeprel: case\n",
      "id: 18\tword: अपनाया\thead id: 0\thead: root\tdeprel: root\n",
      "id: 19\tword: जा\thead id: 18\thead: अपनाया\tdeprel: aux:pass\n",
      "id: 20\tword: रहा\thead id: 18\thead: अपनाया\tdeprel: aux:pass\n",
      "id: 21\tword: है\thead id: 18\thead: अपनाया\tdeprel: aux:pass\n",
      "id: 22\tword: ,\thead id: 18\thead: अपनाया\tdeprel: punct\n",
      "id: 23\tword: जिसका\thead id: 25\thead: कारण\tdeprel: nmod\n",
      "id: 24\tword: प्रमुख\thead id: 25\thead: कारण\tdeprel: amod\n",
      "id: 25\tword: कारण\thead id: 16\thead: पैमाने\tdeprel: acl:relcl\n",
      "id: 26\tword: है\thead id: 25\thead: कारण\tdeprel: cop\n",
      "id: 27\tword: व्यस्त\thead id: 32\thead: दिनचर्या\tdeprel: amod\n",
      "id: 28\tword: ,\thead id: 29\thead: तनावपूर्ण\tdeprel: punct\n",
      "id: 29\tword: तनावपूर्ण\thead id: 27\thead: व्यस्त\tdeprel: conj\n",
      "id: 30\tword: और\thead id: 31\thead: अस्वस्थ\tdeprel: cc\n",
      "id: 31\tword: अस्वस्थ\thead id: 27\thead: व्यस्त\tdeprel: conj\n",
      "id: 32\tword: दिनचर्या\thead id: 36\thead: प्रभाव\tdeprel: nmod\n",
      "id: 33\tword: में\thead id: 32\thead: दिनचर्या\tdeprel: case\n",
      "id: 34\tword: इसके\thead id: 36\thead: प्रभाव\tdeprel: nmod\n",
      "id: 35\tword: सकारात्मक\thead id: 36\thead: प्रभाव\tdeprel: amod\n",
      "id: 36\tword: प्रभाव\thead id: 25\thead: कारण\tdeprel: nmod\n",
      "id: 37\tword: ।\thead id: 18\thead: अपनाया\tdeprel: punct\n"
     ]
    }
   ],
   "source": [
    "print(*[f'id: {word.id}\\tword: {word.text}\\thead id: {word.head}\\thead: {sent.words[word.head-1].text if word.head > 0 else \"root\"}\\tdeprel: {word.deprel}' for sent in document.sentences for word in sent.words if word.text not in stop_words], sep='\\n')"
   ]
  },
  {
   "cell_type": "markdown",
   "metadata": {},
   "source": [
    "# Vectorization "
   ]
  },
  {
   "cell_type": "code",
   "execution_count": 14,
   "metadata": {},
   "outputs": [
    {
     "name": "stdout",
     "output_type": "stream",
     "text": [
      "['योग', 'शब्द', 'की', 'उत्पत्त\\u200dि', ':', 'योग', 'शब्द', 'की', 'उत्पत्त\\u200dि', 'संस्कृति', 'के', 'युज', 'से', 'हुई', 'है', ',', 'जिसका', 'मतलब', 'होता', 'है', 'आत्मा', 'का', 'सार्वभौमिक', 'चेतना', 'से', 'मिलन।', 'योग', 'लगभग', 'दस', 'हजार', 'साल', 'से', 'भी', 'अधिक', 'समय', 'से', 'अपनाया', 'जा', 'रहा', 'है', '।', 'वैदिक', 'संहिताओं', 'के', 'अनुसार', 'तपस्वियों', 'के', 'बारे', 'में', 'प्राचीन', 'काल', 'से', 'ही', 'वेदों', 'में', 'इसका', 'उल्लेख', 'मिलता', 'है', '।', 'सिंधु', 'घाटी', 'सभ्यता', 'में', 'भी', 'योग', 'और', 'समाधि', 'को', 'प्रदर्श\\u200dित', 'करती', 'मूर्तियां', 'प्राप्त', 'हुईं', '।', 'हिन्दू', 'धर्म', 'में', 'साधु', ',', 'संन्यासियों', 'व', 'योगियों', 'द्वारा', 'योग', 'सभ्यता', 'को', 'शुरू', 'से', 'ही', 'अपनाया', 'गया', 'था', ',', 'परंतु', 'आम', 'लोगों', 'में', 'इस', 'विधा', 'का', 'विस्तार', 'हुए', 'अभी', 'ज्यादा', 'समय', 'नहीं', 'बीता', 'है', '।', 'बावजुद', 'इसके', ',', 'योग', 'की', 'महिमा', 'और', 'महत्व', 'को', 'जानकर', 'इसे', 'स्वस्थ्य', 'जीवनशैली', 'हेतु', 'बड़े', 'पैमाने', 'पर', 'अपनाया', 'जा', 'रहा', 'है', ',', 'जिसका', 'प्रमुख', 'कारण', 'है', 'व्यस्त', ',', 'तनावपूर्ण', 'और', 'अस्वस्थ', 'दिनचर्या', 'में', 'इसके', 'सकारात्मक', 'प्रभाव', '।']\n",
      "{'शब': 43, 'उत': 9, 'पत': 21, 'सक': 44, 'मतलब': 25, 'आत': 5, 'वभ': 41, 'तन': 14, 'लन': 37, 'लगभग': 35, 'दस': 16, 'हज': 48, 'अध': 0, 'समय': 47, 'अपन': 2, 'रह': 34, 'अन': 1, 'तपस': 15, 'इसक': 8, 'उल': 10, 'लत': 36, 'सभ': 45, 'यत': 28, 'और': 11, 'सम': 46, 'रदर': 31, 'करत': 12, 'धर': 17, 'गय': 13, 'पर': 22, 'आम': 6, 'इस': 7, 'अभ': 3, 'नह': 20, 'वज': 38, 'मह': 26, 'महत': 27, 'नकर': 18, 'वस': 42, 'वनश': 39, 'बड': 23, 'रम': 33, 'रण': 30, 'यस': 29, 'वप': 40, 'अस': 4, 'नचर': 19, 'मक': 24, 'रभ': 32}\n"
     ]
    }
   ],
   "source": [
    "from sklearn.feature_extraction.text import TfidfVectorizer, CountVectorizer, TfidfTransformer\n",
    "import numpy as np\n",
    "hindi_words = [word.text for sent in document.sentences for word in sent.words]\n",
    "print(hindi_words)\n",
    "count = CountVectorizer()\n",
    "vect = count.fit_transform(hindi_words)\n",
    "print(count.vocabulary_)"
   ]
  },
  {
   "cell_type": "code",
   "execution_count": 15,
   "metadata": {},
   "outputs": [
    {
     "name": "stdout",
     "output_type": "stream",
     "text": [
      "[0. 0. 0. 0. 0. 0. 0. 0. 0. 0. 0. 0. 0. 0. 0. 0. 0. 0. 0. 0. 0. 0. 0. 0.\n",
      " 0. 0. 0. 0. 0. 0. 0. 0. 0. 0. 0. 0. 0. 0. 0. 0. 0. 0. 0. 0. 0. 0. 0. 0.\n",
      " 0.]\n"
     ]
    }
   ],
   "source": [
    "tfidf_trans = TfidfTransformer(use_idf = True, norm='l2', smooth_idf=True)\n",
    "np.set_printoptions(precision=2)\n",
    "print(tfidf_trans.fit_transform(vect).toarray()[0])"
   ]
  },
  {
   "cell_type": "markdown",
   "metadata": {},
   "source": [
    "Application\n",
    "- Text Analysis"
   ]
  },
  {
   "cell_type": "code",
   "execution_count": 17,
   "metadata": {},
   "outputs": [],
   "source": [
    "import nltk"
   ]
  },
  {
   "cell_type": "code",
   "execution_count": 28,
   "metadata": {},
   "outputs": [],
   "source": [
    "text1 = nltk.word_tokenize(\"अर्चना, कहाँ पे जा रहे हो, देव पूछ रहा है ?\")\n",
    "text2 = nltk.word_tokenize(\" देव का अर्चना?\")"
   ]
  },
  {
   "cell_type": "code",
   "execution_count": 29,
   "metadata": {},
   "outputs": [
    {
     "data": {
      "text/plain": [
       "[('अर्चना', 'NOUN'),\n",
       " (',', '.'),\n",
       " ('कहाँ', 'NOUN'),\n",
       " ('पे', 'NOUN'),\n",
       " ('जा', 'NOUN'),\n",
       " ('रहे', 'NOUN'),\n",
       " ('हो', 'NOUN'),\n",
       " (',', '.'),\n",
       " ('देव', 'NOUN'),\n",
       " ('पूछ', 'NOUN'),\n",
       " ('रहा', 'NOUN'),\n",
       " ('है', 'NOUN'),\n",
       " ('?', '.')]"
      ]
     },
     "execution_count": 29,
     "metadata": {},
     "output_type": "execute_result"
    }
   ],
   "source": [
    "nltk.pos_tag(text1,tagset='universal')"
   ]
  },
  {
   "cell_type": "code",
   "execution_count": 30,
   "metadata": {},
   "outputs": [
    {
     "data": {
      "text/plain": [
       "[('देव', 'ADJ'), ('का', 'NOUN'), ('अर्चना', 'NOUN'), ('?', '.')]"
      ]
     },
     "execution_count": 30,
     "metadata": {},
     "output_type": "execute_result"
    }
   ],
   "source": [
    "nltk.pos_tag(text2,tagset='universal')"
   ]
  },
  {
   "cell_type": "code",
   "execution_count": null,
   "metadata": {},
   "outputs": [],
   "source": [
    "Applications\n"
   ]
  }
 ],
 "metadata": {
  "kernelspec": {
   "display_name": "Python 3",
   "language": "python",
   "name": "python3"
  },
  "language_info": {
   "codemirror_mode": {
    "name": "ipython",
    "version": 3
   },
   "file_extension": ".py",
   "mimetype": "text/x-python",
   "name": "python",
   "nbconvert_exporter": "python",
   "pygments_lexer": "ipython3",
   "version": "3.7.3"
  }
 },
 "nbformat": 4,
 "nbformat_minor": 4
}
